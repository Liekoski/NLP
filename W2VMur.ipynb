{
 "cells": [
  {
   "cell_type": "markdown",
   "metadata": {
    "id": "DhBJFPTXfMly"
   },
   "source": [
    "## 1. Предобработка корпуса\n",
    "\n",
    "* проводим лемматизацию и удаляем стоп-слова;\n",
    "* приводем все леммы к нижнему регистру;\n",
    "* добавляем чстеречные теги к словам.\n",
    "\n",
    "Для предобработки мы будем использовать [*UDPipe*](https://ufal.mff.cuni.cz/udpipe)"
   ]
  },
  {
   "cell_type": "code",
   "execution_count": 1,
   "metadata": {
    "colab": {
     "base_uri": "https://localhost:8080/"
    },
    "id": "A7OlhwEofVjv",
    "outputId": "e3696ac3-7f9b-45d5-fa43-6adf8f21f118"
   },
   "outputs": [
    {
     "name": "stdout",
     "output_type": "stream",
     "text": [
      "Requirement already satisfied: wget in c:\\users\\darklord\\anaconda3\\lib\\site-packages (3.2)\n",
      "Note: you may need to restart the kernel to use updated packages.\n"
     ]
    }
   ],
   "source": [
    "pip install wget"
   ]
  },
  {
   "cell_type": "code",
   "execution_count": 2,
   "metadata": {
    "colab": {
     "base_uri": "https://localhost:8080/"
    },
    "id": "mmcmVYovfMlz",
    "outputId": "4ac38ab1-7e7e-4fb4-f212-30e90d9d726e"
   },
   "outputs": [
    {
     "name": "stdout",
     "output_type": "stream",
     "text": [
      "ok\n"
     ]
    }
   ],
   "source": [
    "import wget\n",
    "import sys\n",
    "\n",
    "udpipe_url = 'https://rusvectores.org/static/models/udpipe_syntagrus.model'\n",
    "\n",
    "modelfile = wget.download(udpipe_url)\n",
    "print('ok')"
   ]
  },
  {
   "cell_type": "markdown",
   "metadata": {
    "id": "medkCxOUfMl0"
   },
   "source": [
    "Функция для предобработки текста"
   ]
  },
  {
   "cell_type": "code",
   "execution_count": 3,
   "metadata": {
    "colab": {
     "base_uri": "https://localhost:8080/"
    },
    "id": "xpJwBsZFfMl1",
    "outputId": "14cc8558-520c-4979-dcec-3cfdb775d568"
   },
   "outputs": [
    {
     "name": "stdout",
     "output_type": "stream",
     "text": [
      "ok\n"
     ]
    }
   ],
   "source": [
    "def process(pipeline, text='Строка', keep_pos=True, keep_punct=False):\n",
    "    entities = {'PROPN'}\n",
    "    named = False\n",
    "    memory = []\n",
    "    mem_case = None\n",
    "    mem_number = None\n",
    "    tagged_propn = []\n",
    "\n",
    "    # обрабатываем текст, получаем результат в формате conllu:\n",
    "    processed = pipeline.process(text)\n",
    "\n",
    "    # пропускаем строки со служебной информацией:\n",
    "    content = [l for l in processed.split('\\n') if not l.startswith('#')]\n",
    "\n",
    "    # извлекаем из обработанного текста леммы, тэги и морфологические характеристики\n",
    "    tagged = [w.split('\\t') for w in content if w]\n",
    "\n",
    "    for t in tagged:\n",
    "        if len(t) != 10:\n",
    "            continue\n",
    "        (word_id, token, lemma, pos, xpos, feats, head, deprel, deps, misc) = t\n",
    "        if not lemma or not token:\n",
    "            continue\n",
    "        if pos in entities:\n",
    "            if '|' not in feats:\n",
    "                tagged_propn.append('%s_%s' % (lemma, pos))\n",
    "                continue\n",
    "            morph = {el.split('=')[0]: el.split('=')[1] for el in feats.split('|')}\n",
    "            if 'Case' not in morph or 'Number' not in morph:\n",
    "                tagged_propn.append('%s_%s' % (lemma, pos))\n",
    "                continue\n",
    "            if not named:\n",
    "                named = True\n",
    "                mem_case = morph['Case']\n",
    "                mem_number = morph['Number']\n",
    "            if morph['Case'] == mem_case and morph['Number'] == mem_number:\n",
    "                memory.append(lemma)\n",
    "                if 'SpacesAfter=\\\\n' in misc or 'SpacesAfter=\\s\\\\n' in misc:\n",
    "                    named = False\n",
    "                    past_lemma = '::'.join(memory)\n",
    "                    memory = []\n",
    "                    tagged_propn.append(past_lemma + '_PROPN ')\n",
    "            else:\n",
    "                named = False\n",
    "                past_lemma = '::'.join(memory)\n",
    "                memory = []\n",
    "                tagged_propn.append(past_lemma + '_PROPN ')\n",
    "                tagged_propn.append('%s_%s' % (lemma, pos))\n",
    "        else:\n",
    "            if not named:\n",
    "                if pos == 'NUM' and token.isdigit():  # Заменяем числа на xxxxx той же длины\n",
    "                    continue\n",
    "                tagged_propn.append('%s_%s' % (lemma, pos))\n",
    "            else:\n",
    "                named = False\n",
    "                past_lemma = '::'.join(memory)\n",
    "                memory = []\n",
    "                tagged_propn.append(past_lemma + '_PROPN ')\n",
    "                tagged_propn.append('%s_%s' % (lemma, pos))\n",
    "\n",
    "    if not keep_punct:\n",
    "        tagged_propn = [word for word in tagged_propn if word.split('_')[1] != 'PUNCT']\n",
    "    if not keep_pos:\n",
    "        tagged_propn = [word.split('_')[0] for word in tagged_propn]\n",
    "    return tagged_propn\n",
    "\n",
    "print('ok')\n"
   ]
  },
  {
   "cell_type": "code",
   "execution_count": 6,
   "metadata": {
    "colab": {
     "base_uri": "https://localhost:8080/"
    },
    "id": "z4SAh2OwgH8n",
    "outputId": "67b1aefc-47a3-4cce-d863-a73725e0b749"
   },
   "outputs": [
    {
     "name": "stdout",
     "output_type": "stream",
     "text": [
      "Collecting ufal.udpipe\n",
      "  Obtaining dependency information for ufal.udpipe from https://files.pythonhosted.org/packages/89/f7/4f041bd08ddb6b1198c0de71fa8e03610a129d47794ca360ea579b17296c/ufal.udpipe-1.3.1.1-cp311-cp311-win_amd64.whl.metadata\n",
      "  Downloading ufal.udpipe-1.3.1.1-cp311-cp311-win_amd64.whl.metadata (11 kB)\n",
      "Downloading ufal.udpipe-1.3.1.1-cp311-cp311-win_amd64.whl (892 kB)\n",
      "   ---------------------------------------- 0.0/892.6 kB ? eta -:--:--\n",
      "   ---------------------------------------- 10.2/892.6 kB ? eta -:--:--\n",
      "   - ------------------------------------- 30.7/892.6 kB 330.3 kB/s eta 0:00:03\n",
      "   -- ------------------------------------ 61.4/892.6 kB 469.7 kB/s eta 0:00:02\n",
      "   ------ ------------------------------- 153.6/892.6 kB 838.4 kB/s eta 0:00:01\n",
      "   ------------ --------------------------- 286.7/892.6 kB 1.3 MB/s eta 0:00:01\n",
      "   ------------------ --------------------- 409.6/892.6 kB 1.5 MB/s eta 0:00:01\n",
      "   ------------------- -------------------- 430.1/892.6 kB 1.3 MB/s eta 0:00:01\n",
      "   ----------------------------------- ---- 798.7/892.6 kB 2.2 MB/s eta 0:00:01\n",
      "   ---------------------------------------  890.9/892.6 kB 2.2 MB/s eta 0:00:01\n",
      "   ---------------------------------------- 892.6/892.6 kB 2.1 MB/s eta 0:00:00\n",
      "Installing collected packages: ufal.udpipe\n",
      "Successfully installed ufal.udpipe-1.3.1.1\n",
      "Note: you may need to restart the kernel to use updated packages.\n"
     ]
    }
   ],
   "source": [
    "pip install ufal.udpipe"
   ]
  },
  {
   "cell_type": "code",
   "execution_count": 4,
   "metadata": {
    "id": "nwYpldQHfMl3"
   },
   "outputs": [],
   "source": [
    "from ufal.udpipe import Model, Pipeline\n",
    "import os\n",
    "import re\n",
    "\n",
    "def tag_ud(text='Текст нужно передать функции в виде строки!', modelfile='udpipe_syntagrus.model'):\n",
    "    cnt = 0\n",
    "    udpipe_model_url = 'https://rusvectores.org/static/models/udpipe_syntagrus.model'\n",
    "    udpipe_filename = udpipe_model_url.split('/')[-1]\n",
    "\n",
    "    if not os.path.isfile(modelfile):\n",
    "        print('UDPipe model not found. Downloading...', file=sys.stderr)\n",
    "        wget.download(udpipe_model_url)\n",
    "\n",
    "    print('\\nLoading the model...', file=sys.stderr)\n",
    "    model = Model.load(modelfile)\n",
    "    process_pipeline = Pipeline(model, 'tokenize', Pipeline.DEFAULT, Pipeline.DEFAULT, 'conllu')\n",
    "\n",
    "    print('Processing input...', file=sys.stderr)\n",
    "    lines = text.split('\\n')\n",
    "    tagged = []\n",
    "    for line in lines:\n",
    "        # line = unify_sym(line.strip()) # здесь могла бы быть ваша функция очистки текста\n",
    "        output = process(process_pipeline, text=line)\n",
    "        tagged_line = ' '.join(output)\n",
    "        tagged.append(tagged_line)\n",
    "        cnt += 1\n",
    "        if cnt%1000 == 0:\n",
    "            print(cnt)\n",
    "    return '\\n'.join(tagged)"
   ]
  },
  {
   "cell_type": "markdown",
   "metadata": {
    "id": "j63trpg3PpOQ"
   },
   "source": [
    "Работа с корпусом"
   ]
  },
  {
   "cell_type": "code",
   "execution_count": 5,
   "metadata": {
    "id": "cJg3t3wSfMl7"
   },
   "outputs": [],
   "source": [
    "import sys\n",
    "import gensim, logging\n",
    "\n",
    "logging.basicConfig(format='%(asctime)s : %(levelname)s : %(message)s', level=logging.INFO)"
   ]
  },
  {
   "cell_type": "markdown",
   "metadata": {
    "id": "Qk7GFgB8QTQK"
   },
   "source": [
    "Одна строка - одно предложение"
   ]
  },
  {
   "cell_type": "code",
   "execution_count": 6,
   "metadata": {
    "id": "h1lKpGxIfMl8"
   },
   "outputs": [],
   "source": [
    "f = 'my_text.txt'\n",
    "data = gensim.models.word2vec.LineSentence(f)"
   ]
  },
  {
   "cell_type": "markdown",
   "metadata": {
    "id": "ydnDEo4NQHYm"
   },
   "source": [
    "2. Приступаем к обучению моделей\n",
    "\n",
    "2.1 CBOW"
   ]
  },
  {
   "cell_type": "markdown",
   "metadata": {
    "id": "rN3sQvmxfMl8"
   },
   "source": [
    "Инициализируем модель. Параметры в скобочках:\n",
    "* data - данные,\n",
    "* size - размер вектора,\n",
    "* window - размер окна наблюдения,\n",
    "* min_count - мин. частотность слова в корпусе, которое мы берем,\n",
    "* sg - используемый алгоритм обучение (0 - CBOW, 1 - Skip-gram))"
   ]
  },
  {
   "cell_type": "code",
   "execution_count": 11,
   "metadata": {
    "colab": {
     "base_uri": "https://localhost:8080/",
     "height": 442
    },
    "id": "y6LXaFjJfMl8",
    "outputId": "8bfda94a-28fb-4c08-e9d6-5b1c3866fa19"
   },
   "outputs": [
    {
     "ename": "TypeError",
     "evalue": "Word2Vec.__init__() got an unexpected keyword argument 'encoding'",
     "output_type": "error",
     "traceback": [
      "\u001b[1;31m---------------------------------------------------------------------------\u001b[0m",
      "\u001b[1;31mTypeError\u001b[0m                                 Traceback (most recent call last)",
      "Cell \u001b[1;32mIn[11], line 1\u001b[0m\n\u001b[1;32m----> 1\u001b[0m model_CBOW \u001b[38;5;241m=\u001b[39m gensim\u001b[38;5;241m.\u001b[39mmodels\u001b[38;5;241m.\u001b[39mWord2Vec(data, vector_size\u001b[38;5;241m=\u001b[39m\u001b[38;5;241m500\u001b[39m, window\u001b[38;5;241m=\u001b[39m\u001b[38;5;241m5\u001b[39m, min_count\u001b[38;5;241m=\u001b[39m\u001b[38;5;241m2\u001b[39m, sg\u001b[38;5;241m=\u001b[39m\u001b[38;5;241m0\u001b[39m, encoding\u001b[38;5;241m=\u001b[39m\u001b[38;5;124m'\u001b[39m\u001b[38;5;124mcp1251\u001b[39m\u001b[38;5;124m'\u001b[39m)\n",
      "\u001b[1;31mTypeError\u001b[0m: Word2Vec.__init__() got an unexpected keyword argument 'encoding'"
     ]
    }
   ],
   "source": [
    "model_CBOW = gensim.models.Word2Vec(data, vector_size=500, window=5, min_count=2, sg=0, encoding='cp1251')"
   ]
  },
  {
   "cell_type": "markdown",
   "metadata": {
    "id": "2XVpy5VSfMl-"
   },
   "source": [
    "Сколько слов в модели?"
   ]
  },
  {
   "cell_type": "code",
   "execution_count": null,
   "metadata": {
    "colab": {
     "base_uri": "https://localhost:8080/"
    },
    "id": "gJ5JSgK0fMl-",
    "outputId": "6ba5a39c-3da7-4756-c433-72870844a98f"
   },
   "outputs": [
    {
     "name": "stdout",
     "output_type": "stream",
     "text": [
      "13641\n"
     ]
    }
   ],
   "source": [
    "print(len(model_CBOW.wv.vocab))"
   ]
  },
  {
   "cell_type": "markdown",
   "metadata": {
    "id": "Lq64ahpzQqYd"
   },
   "source": [
    "Сохраняем модель"
   ]
  },
  {
   "cell_type": "code",
   "execution_count": null,
   "metadata": {
    "colab": {
     "base_uri": "https://localhost:8080/"
    },
    "id": "YgRQlwBFfMl_",
    "outputId": "92d7b3b4-9108-4fc9-db3e-cad1b75c34b3"
   },
   "outputs": [
    {
     "name": "stderr",
     "output_type": "stream",
     "text": [
      "2021-12-19 17:21:01,159 : INFO : saving Word2Vec object under cbow.model, separately None\n",
      "2021-12-19 17:21:01,162 : INFO : not storing attribute vectors_norm\n",
      "2021-12-19 17:21:01,164 : INFO : not storing attribute cum_table\n",
      "2021-12-19 17:21:01,803 : INFO : saved cbow.model\n"
     ]
    }
   ],
   "source": [
    "model_CBOW.save('cbow.model')"
   ]
  },
  {
   "cell_type": "markdown",
   "metadata": {
    "id": "FuJHhwEPRKew"
   },
   "source": [
    "Загружаем сохраненную модель"
   ]
  },
  {
   "cell_type": "code",
   "execution_count": null,
   "metadata": {
    "id": "q0cu30UIkkut"
   },
   "outputs": [],
   "source": [
    "from gensim.models import Word2Vec\n",
    "cbow = Word2Vec.load('cbow.model')"
   ]
  },
  {
   "cell_type": "markdown",
   "metadata": {
    "id": "28NuxyjxXU8N"
   },
   "source": [
    "Косинусное сходство"
   ]
  },
  {
   "cell_type": "code",
   "execution_count": null,
   "metadata": {
    "colab": {
     "base_uri": "https://localhost:8080/"
    },
    "id": "0bZdND3ElLyH",
    "outputId": "fdc7f531-7fe2-4970-b866-f9c04c8cb0bd"
   },
   "outputs": [
    {
     "data": {
      "text/plain": [
       "0.93937075"
      ]
     },
     "execution_count": 19,
     "metadata": {},
     "output_type": "execute_result"
    }
   ],
   "source": [
    "cbow.wv.similarity(\"заболевание_NOUN\", \"болезнь_NOUN\")"
   ]
  },
  {
   "cell_type": "code",
   "execution_count": null,
   "metadata": {
    "colab": {
     "base_uri": "https://localhost:8080/"
    },
    "id": "4L5FaHHX5nxf",
    "outputId": "25d74f81-a605-45c2-a4e3-2fe4be86371b"
   },
   "outputs": [
    {
     "data": {
      "text/plain": [
       "0.5333425"
      ]
     },
     "execution_count": 8,
     "metadata": {},
     "output_type": "execute_result"
    }
   ],
   "source": [
    "cbow.wv.similarity(\"сердце_NOUN\", \"металлический_ADJ\")"
   ]
  },
  {
   "cell_type": "code",
   "execution_count": null,
   "metadata": {
    "colab": {
     "base_uri": "https://localhost:8080/"
    },
    "id": "b9FEr4Dj5xtp",
    "outputId": "37196f18-bb3b-49d6-aac8-48428cb06d3f"
   },
   "outputs": [
    {
     "data": {
      "text/plain": [
       "0.87312686"
      ]
     },
     "execution_count": 10,
     "metadata": {},
     "output_type": "execute_result"
    }
   ],
   "source": [
    "cbow.wv.similarity(\"помощь_NOUN\", \"врач_NOUN\")"
   ]
  },
  {
   "cell_type": "code",
   "execution_count": null,
   "metadata": {
    "colab": {
     "base_uri": "https://localhost:8080/"
    },
    "id": "P1rA9aZb5-B-",
    "outputId": "00987873-7bee-4bcc-e074-0358bc9fd57e"
   },
   "outputs": [
    {
     "data": {
      "text/plain": [
       "0.84338915"
      ]
     },
     "execution_count": 13,
     "metadata": {},
     "output_type": "execute_result"
    }
   ],
   "source": [
    "cbow.wv.similarity(\"корень_NOUN\", \"болезнь_NOUN\")"
   ]
  },
  {
   "cell_type": "markdown",
   "metadata": {
    "id": "3m-ZV1yOXZbv"
   },
   "source": [
    "Евклидово расстояние"
   ]
  },
  {
   "cell_type": "code",
   "execution_count": null,
   "metadata": {
    "colab": {
     "base_uri": "https://localhost:8080/"
    },
    "id": "JnBoednuWI_b",
    "outputId": "675921d7-5529-476a-9029-0ddbd5266a89"
   },
   "outputs": [
    {
     "name": "stdout",
     "output_type": "stream",
     "text": [
      "0.47760105 0.8164908\n"
     ]
    }
   ],
   "source": [
    "import numpy as np\n",
    "\n",
    "euclid1 = np.linalg.norm(cbow.wv['симптом_NOUN'] - cbow.wv['насморк_NOUN'])\n",
    "euclid2 = np.linalg.norm(cbow.wv['симптом_NOUN'] - cbow.wv['дерево_NOUN'])\n",
    "print(euclid1, euclid2)"
   ]
  },
  {
   "cell_type": "markdown",
   "metadata": {
    "id": "chm8PX1dYAa0"
   },
   "source": [
    "## 2.2 Skip-Gram"
   ]
  },
  {
   "cell_type": "code",
   "execution_count": null,
   "metadata": {
    "id": "j-G_vzynsJ0c"
   },
   "outputs": [],
   "source": [
    "model_sg = gensim.models.Word2Vec(data, size=500, window=5, min_count=2, sg=1)"
   ]
  },
  {
   "cell_type": "code",
   "execution_count": null,
   "metadata": {
    "colab": {
     "base_uri": "https://localhost:8080/"
    },
    "id": "978s_rn1w70j",
    "outputId": "a3534106-e32a-4f18-94cb-fa3466158803"
   },
   "outputs": [
    {
     "name": "stderr",
     "output_type": "stream",
     "text": [
      "2021-12-19 17:37:07,246 : INFO : saving Word2Vec object under skip-gram.model, separately None\n",
      "2021-12-19 17:37:07,249 : INFO : not storing attribute vectors_norm\n",
      "2021-12-19 17:37:07,251 : INFO : not storing attribute cum_table\n",
      "2021-12-19 17:37:07,842 : INFO : saved skip-gram.model\n"
     ]
    }
   ],
   "source": [
    "model_sg.save('skip-gram.model')"
   ]
  },
  {
   "cell_type": "code",
   "execution_count": null,
   "metadata": {
    "id": "XavEFaHrYdA6"
   },
   "outputs": [],
   "source": [
    "from gensim.models import Word2Vec\n",
    "sg = Word2Vec.load('skip-gram.model')"
   ]
  },
  {
   "cell_type": "code",
   "execution_count": null,
   "metadata": {
    "colab": {
     "base_uri": "https://localhost:8080/"
    },
    "id": "yeIyYS77xPbs",
    "outputId": "fb18854c-f9ba-4ce6-e93e-192ad1da2ba6"
   },
   "outputs": [
    {
     "name": "stdout",
     "output_type": "stream",
     "text": [
      "язвенный_ADJ 0.818590521812439\n",
      "гастрит_NOUN 0.795746386051178\n",
      "заболевание_NOUN 0.7902160882949829\n",
      "хронический_ADJ 0.7725076675415039\n",
      "варикозный_ADJ 0.7723581790924072\n",
      "панкреатит_VERB 0.7706602811813354\n",
      "панкреатит_NOUN 0.76788330078125\n",
      "желчнокамять_ADJ 0.7672724723815918\n",
      "крона_PROPN 0.7628512382507324\n",
      "анамнез_ADP 0.7602263689041138\n"
     ]
    },
    {
     "name": "stderr",
     "output_type": "stream",
     "text": [
      "/usr/local/lib/python3.7/dist-packages/ipykernel_launcher.py:1: DeprecationWarning: Call to deprecated `most_similar` (Method will be removed in 4.0.0, use self.wv.most_similar() instead).\n",
      "  \"\"\"Entry point for launching an IPython kernel.\n"
     ]
    }
   ],
   "source": [
    "for t in sg.most_similar(positive=[u'болезнь_NOUN'], topn=10):\n",
    "    print (t[0], t[1])"
   ]
  },
  {
   "cell_type": "code",
   "execution_count": null,
   "metadata": {
    "colab": {
     "base_uri": "https://localhost:8080/"
    },
    "id": "Q07RYVckxaYm",
    "outputId": "dc7f4509-25f3-4ba6-832c-0a3466e30c41"
   },
   "outputs": [
    {
     "data": {
      "text/plain": [
       "0.7902161"
      ]
     },
     "execution_count": 27,
     "metadata": {},
     "output_type": "execute_result"
    }
   ],
   "source": [
    "sg.wv.similarity(\"заболевание_NOUN\", \"болезнь_NOUN\")"
   ]
  },
  {
   "cell_type": "code",
   "execution_count": null,
   "metadata": {
    "colab": {
     "base_uri": "https://localhost:8080/"
    },
    "id": "qlA5YTkN6P4I",
    "outputId": "864efc26-baae-419c-e5f9-0db85ac23951"
   },
   "outputs": [
    {
     "data": {
      "text/plain": [
       "0.4050644"
      ]
     },
     "execution_count": 14,
     "metadata": {},
     "output_type": "execute_result"
    }
   ],
   "source": [
    "sg.wv.similarity(\"сердце_NOUN\", \"металлический_ADJ\")"
   ]
  },
  {
   "cell_type": "code",
   "execution_count": null,
   "metadata": {
    "colab": {
     "base_uri": "https://localhost:8080/"
    },
    "id": "BT3WD8Um6Y8q",
    "outputId": "26da9fb4-7fb8-4903-fe5a-73453d78cf26"
   },
   "outputs": [
    {
     "data": {
      "text/plain": [
       "0.6428397"
      ]
     },
     "execution_count": 15,
     "metadata": {},
     "output_type": "execute_result"
    }
   ],
   "source": [
    "sg.wv.similarity(\"помощь_NOUN\", \"врач_NOUN\")"
   ]
  },
  {
   "cell_type": "code",
   "execution_count": null,
   "metadata": {
    "colab": {
     "base_uri": "https://localhost:8080/"
    },
    "id": "r6VUvDdu6a7I",
    "outputId": "a85e6bc1-7a0b-4684-90a4-860db89e70de"
   },
   "outputs": [
    {
     "data": {
      "text/plain": [
       "0.34779614"
      ]
     },
     "execution_count": 16,
     "metadata": {},
     "output_type": "execute_result"
    }
   ],
   "source": [
    "sg.wv.similarity(\"корень_NOUN\", \"болезнь_NOUN\")"
   ]
  },
  {
   "cell_type": "code",
   "execution_count": null,
   "metadata": {
    "colab": {
     "base_uri": "https://localhost:8080/"
    },
    "id": "C0RhfLerDVOH",
    "outputId": "97d0bf7b-1746-4a16-920a-921457408838"
   },
   "outputs": [
    {
     "name": "stdout",
     "output_type": "stream",
     "text": [
      "2.0199683 2.9246976\n"
     ]
    }
   ],
   "source": [
    "euclid3 = np.linalg.norm(sg.wv['симптом_NOUN'] - sg.wv['насморк_NOUN'])\n",
    "euclid4 = np.linalg.norm(sg.wv['симптом_NOUN'] - sg.wv['дерево_NOUN'])\n",
    "print(euclid3, euclid4)"
   ]
  },
  {
   "cell_type": "markdown",
   "metadata": {
    "id": "4lTKIr43aa4V"
   },
   "source": [
    "## Коллокаты"
   ]
  },
  {
   "cell_type": "code",
   "execution_count": null,
   "metadata": {
    "colab": {
     "base_uri": "https://localhost:8080/"
    },
    "id": "lCvtpsZVk0S-",
    "outputId": "dbd40b3b-19b1-48c4-f67e-4465708648d1"
   },
   "outputs": [
    {
     "name": "stdout",
     "output_type": "stream",
     "text": [
      "язвенный_ADJ 0.818590521812439\n",
      "гастрит_NOUN 0.795746386051178\n",
      "заболевание_NOUN 0.7902160882949829\n",
      "хронический_ADJ 0.7725076675415039\n",
      "варикозный_ADJ 0.7723581790924072\n",
      "панкреатит_NOUN 0.76788330078125\n",
      "желчнокамять_ADJ 0.7672724723815918\n"
     ]
    },
    {
     "name": "stderr",
     "output_type": "stream",
     "text": [
      "/usr/local/lib/python3.7/dist-packages/ipykernel_launcher.py:3: DeprecationWarning: Call to deprecated `most_similar` (Method will be removed in 4.0.0, use self.wv.most_similar() instead).\n",
      "  This is separate from the ipykernel package so we can avoid doing imports until\n"
     ]
    }
   ],
   "source": [
    "import re\n",
    "\n",
    "for t in sg.most_similar(positive=[u'болезнь_NOUN'], topn=10):\n",
    "  cond = re.search(r'_(NOUN)|(ADJ)|(NUM)', t[0])\n",
    "  if cond != None:\n",
    "    print (t[0], t[1])"
   ]
  },
  {
   "cell_type": "code",
   "execution_count": null,
   "metadata": {
    "id": "5GBMUOnB627U"
   },
   "outputs": [],
   "source": []
  }
 ],
 "metadata": {
  "colab": {
   "provenance": []
  },
  "kernelspec": {
   "display_name": "Python 3 (ipykernel)",
   "language": "python",
   "name": "python3"
  },
  "language_info": {
   "codemirror_mode": {
    "name": "ipython",
    "version": 3
   },
   "file_extension": ".py",
   "mimetype": "text/x-python",
   "name": "python",
   "nbconvert_exporter": "python",
   "pygments_lexer": "ipython3",
   "version": "3.11.5"
  }
 },
 "nbformat": 4,
 "nbformat_minor": 1
}
