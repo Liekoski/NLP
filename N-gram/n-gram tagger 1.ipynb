{
 "cells": [
  {
   "cell_type": "code",
   "execution_count": 1,
   "metadata": {
    "colab": {
     "base_uri": "https://localhost:8080/"
    },
    "executionInfo": {
     "elapsed": 2677,
     "status": "ok",
     "timestamp": 1697097634335,
     "user": {
      "displayName": "Анастасия Зюрик",
      "userId": "05250304359925303597"
     },
     "user_tz": -180
    },
    "id": "NpjohVr9YSnN",
    "outputId": "352b3e2a-9441-44e2-b150-9d271051816f"
   },
   "outputs": [
    {
     "name": "stderr",
     "output_type": "stream",
     "text": [
      "[nltk_data] Downloading package brown to\n",
      "[nltk_data]     C:\\Users\\smirn\\AppData\\Roaming\\nltk_data...\n",
      "[nltk_data]   Package brown is already up-to-date!\n"
     ]
    },
    {
     "data": {
      "text/plain": [
       "True"
      ]
     },
     "execution_count": 1,
     "metadata": {},
     "output_type": "execute_result"
    }
   ],
   "source": [
    "import nltk\n",
    "from nltk.corpus import brown\n",
    "nltk.download('brown')"
   ]
  },
  {
   "cell_type": "code",
   "execution_count": 2,
   "metadata": {
    "id": "j7RkRZP6YpTI"
   },
   "outputs": [],
   "source": [
    "brown_tagged_sents = brown.tagged_sents(categories='news')\n",
    "brown_sents = brown.sents(categories='news')"
   ]
  },
  {
   "cell_type": "code",
   "execution_count": 3,
   "metadata": {
    "id": "5SHvjOXPY-fs"
   },
   "outputs": [],
   "source": [
    "size = int(len(brown_tagged_sents) * 0.9)\n",
    "train_sents = brown_tagged_sents[:size]\n",
    "test_sents = brown_tagged_sents[size:]"
   ]
  },
  {
   "cell_type": "code",
   "execution_count": 4,
   "metadata": {
    "id": "U3KGQjtDYvUj"
   },
   "outputs": [],
   "source": [
    "unigram_tagger = nltk.UnigramTagger(train_sents)\n",
    "bigram_tagger = nltk.BigramTagger(train_sents)\n",
    "trigram_tagger = nltk.TrigramTagger(train_sents)"
   ]
  },
  {
   "cell_type": "code",
   "execution_count": 5,
   "metadata": {
    "colab": {
     "base_uri": "https://localhost:8080/"
    },
    "id": "VAWnNQ2cZxm-",
    "outputId": "2d956c03-c59a-434b-8848-e1080ea613f9"
   },
   "outputs": [
    {
     "data": {
      "text/plain": [
       "[('It', 'PPS'),\n",
       " ('recommended', 'VBD'),\n",
       " ('that', 'CS'),\n",
       " ('Fulton', 'NP-TL'),\n",
       " ('legislators', 'NNS'),\n",
       " ('act', 'NN'),\n",
       " ('``', '``'),\n",
       " ('to', 'TO'),\n",
       " ('have', 'HV'),\n",
       " ('these', 'DTS'),\n",
       " ('laws', 'NNS'),\n",
       " ('studied', 'VBD'),\n",
       " ('and', 'CC'),\n",
       " ('revised', 'VBN'),\n",
       " ('to', 'TO'),\n",
       " ('the', 'AT'),\n",
       " ('end', 'NN'),\n",
       " ('of', 'IN'),\n",
       " ('modernizing', 'VBG'),\n",
       " ('and', 'CC'),\n",
       " ('improving', 'VBG'),\n",
       " ('them', 'PPO'),\n",
       " (\"''\", \"''\"),\n",
       " ('.', '.')]"
      ]
     },
     "execution_count": 5,
     "metadata": {},
     "output_type": "execute_result"
    }
   ],
   "source": [
    "unigram_tagger.tag(brown_sents[5])"
   ]
  },
  {
   "cell_type": "code",
   "execution_count": 6,
   "metadata": {
    "colab": {
     "base_uri": "https://localhost:8080/"
    },
    "id": "S-1sezjTY8T3",
    "outputId": "20914b6c-1dee-46cb-d3fe-b3c14dae5fb3"
   },
   "outputs": [
    {
     "data": {
      "text/plain": [
       "[('It', 'PPS'),\n",
       " ('recommended', 'VBD'),\n",
       " ('that', 'CS'),\n",
       " ('Fulton', 'NP'),\n",
       " ('legislators', 'NNS'),\n",
       " ('act', 'VB'),\n",
       " ('``', '``'),\n",
       " ('to', 'TO'),\n",
       " ('have', 'HV'),\n",
       " ('these', 'DTS'),\n",
       " ('laws', 'NNS'),\n",
       " ('studied', 'VBN'),\n",
       " ('and', 'CC'),\n",
       " ('revised', 'VBN'),\n",
       " ('to', 'TO'),\n",
       " ('the', None),\n",
       " ('end', None),\n",
       " ('of', None),\n",
       " ('modernizing', None),\n",
       " ('and', None),\n",
       " ('improving', None),\n",
       " ('them', None),\n",
       " (\"''\", None),\n",
       " ('.', None)]"
      ]
     },
     "execution_count": 6,
     "metadata": {},
     "output_type": "execute_result"
    }
   ],
   "source": [
    "bigram_tagger.tag(brown_sents[5])"
   ]
  },
  {
   "cell_type": "code",
   "execution_count": 7,
   "metadata": {
    "colab": {
     "base_uri": "https://localhost:8080/"
    },
    "id": "3kwB6vOAZ22O",
    "outputId": "4c98180a-3ea6-4cf6-8f0e-b73f105bb80f"
   },
   "outputs": [
    {
     "data": {
      "text/plain": [
       "[('It', 'PPS'),\n",
       " ('recommended', 'VBD'),\n",
       " ('that', 'CS'),\n",
       " ('Fulton', 'NP'),\n",
       " ('legislators', 'NNS'),\n",
       " ('act', 'VB'),\n",
       " ('``', '``'),\n",
       " ('to', 'TO'),\n",
       " ('have', 'HV'),\n",
       " ('these', 'DTS'),\n",
       " ('laws', 'NNS'),\n",
       " ('studied', 'VBN'),\n",
       " ('and', 'CC'),\n",
       " ('revised', 'VBN'),\n",
       " ('to', 'IN'),\n",
       " ('the', 'AT'),\n",
       " ('end', 'NN'),\n",
       " ('of', 'IN'),\n",
       " ('modernizing', 'VBG'),\n",
       " ('and', 'CC'),\n",
       " ('improving', 'VBG'),\n",
       " ('them', 'PPO'),\n",
       " (\"''\", \"''\"),\n",
       " ('.', '.')]"
      ]
     },
     "execution_count": 7,
     "metadata": {},
     "output_type": "execute_result"
    }
   ],
   "source": [
    "trigram_tagger.tag(brown_sents[5])"
   ]
  },
  {
   "cell_type": "code",
   "execution_count": 8,
   "metadata": {
    "colab": {
     "base_uri": "https://localhost:8080/"
    },
    "id": "f9nezMe3Z-pu",
    "outputId": "ce95f199-99ce-476c-c736-999be5a73d73"
   },
   "outputs": [
    {
     "name": "stderr",
     "output_type": "stream",
     "text": [
      "C:\\Users\\smirn\\AppData\\Local\\Temp\\ipykernel_6608\\1333574519.py:1: DeprecationWarning: \n",
      "  Function evaluate() has been deprecated.  Use accuracy(gold)\n",
      "  instead.\n",
      "  print('Unigram:\\t', unigram_tagger.evaluate(test_sents),\n",
      "C:\\Users\\smirn\\AppData\\Local\\Temp\\ipykernel_6608\\1333574519.py:2: DeprecationWarning: \n",
      "  Function evaluate() has been deprecated.  Use accuracy(gold)\n",
      "  instead.\n",
      "  '\\nBigram:\\t\\t', bigram_tagger.evaluate(test_sents),\n",
      "C:\\Users\\smirn\\AppData\\Local\\Temp\\ipykernel_6608\\1333574519.py:3: DeprecationWarning: \n",
      "  Function evaluate() has been deprecated.  Use accuracy(gold)\n",
      "  instead.\n",
      "  '\\nTrigram:\\t', trigram_tagger.evaluate(test_sents))\n"
     ]
    },
    {
     "name": "stdout",
     "output_type": "stream",
     "text": [
      "Unigram:\t 0.8121200039868434 \n",
      "Bigram:\t\t 0.10206319146815508 \n",
      "Trigram:\t 0.0626931127279976\n"
     ]
    }
   ],
   "source": [
    "print('Unigram:\\t', unigram_tagger.evaluate(test_sents),\n",
    "      '\\nBigram:\\t\\t', bigram_tagger.evaluate(test_sents),\n",
    "      '\\nTrigram:\\t', trigram_tagger.evaluate(test_sents))"
   ]
  },
  {
   "cell_type": "code",
   "execution_count": null,
   "metadata": {},
   "outputs": [],
   "source": []
  }
 ],
 "metadata": {
  "colab": {
   "provenance": []
  },
  "kernelspec": {
   "display_name": "Python 3 (ipykernel)",
   "language": "python",
   "name": "python3"
  },
  "language_info": {
   "codemirror_mode": {
    "name": "ipython",
    "version": 3
   },
   "file_extension": ".py",
   "mimetype": "text/x-python",
   "name": "python",
   "nbconvert_exporter": "python",
   "pygments_lexer": "ipython3",
   "version": "3.11.4"
  }
 },
 "nbformat": 4,
 "nbformat_minor": 1
}
