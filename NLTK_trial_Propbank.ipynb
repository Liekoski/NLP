{
 "cells": [
  {
   "cell_type": "code",
   "execution_count": null,
   "metadata": {
    "id": "woJiZQsHIO0J"
   },
   "outputs": [],
   "source": [
    "# https://www.nltk.org/howto/propbank.html"
   ]
  },
  {
   "cell_type": "code",
   "execution_count": 2,
   "metadata": {},
   "outputs": [],
   "source": [
    "import nltk"
   ]
  },
  {
   "cell_type": "code",
   "execution_count": 4,
   "metadata": {},
   "outputs": [
    {
     "name": "stderr",
     "output_type": "stream",
     "text": [
      "[nltk_data] Downloading package propbank to\n",
      "[nltk_data]     C:\\Users\\DarkLord\\AppData\\Roaming\\nltk_data...\n"
     ]
    },
    {
     "data": {
      "text/plain": [
       "True"
      ]
     },
     "execution_count": 4,
     "metadata": {},
     "output_type": "execute_result"
    }
   ],
   "source": [
    "nltk.download('propbank')"
   ]
  },
  {
   "cell_type": "code",
   "execution_count": 5,
   "metadata": {
    "id": "IIgl4VSPIO0W",
    "outputId": "11ff51db-a415-43bd-b20e-e16a9aa5f671"
   },
   "outputs": [
    {
     "name": "stdout",
     "output_type": "stream",
     "text": [
      "[<PropbankInstance: wsj_0001.mrg, sent 0, word 8>, <PropbankInstance: wsj_0001.mrg, sent 1, word 10>, ...]\n"
     ]
    }
   ],
   "source": [
    "# Обращение к PropBank\n",
    "from nltk.corpus import propbank\n",
    "pb_instances = propbank.instances()\n",
    "print(pb_instances)"
   ]
  },
  {
   "cell_type": "code",
   "execution_count": 6,
   "metadata": {
    "id": "RjijILAiIO0d",
    "outputId": "c4cf58b1-302b-4429-f815-ce6baf05d4f3"
   },
   "outputs": [
    {
     "name": "stdout",
     "output_type": "stream",
     "text": [
      "wsj_0001.mrg 0 8 gold join.01 vf--a 0:2-ARG0 7:0-ARGM-MOD 8:0-rel 9:1-ARG1 11:1-ARGM-PRD 15:1-ARGM-TMP\n"
     ]
    }
   ],
   "source": [
    "from nltk.corpus import propbank\n",
    "# Вывод аннотации глагола join\n",
    "print(propbank.instances()[0])"
   ]
  },
  {
   "cell_type": "code",
   "execution_count": 7,
   "metadata": {
    "id": "1NyE91L9IO0g",
    "outputId": "dafc9ac5-0eee-4aff-80e2-25971d809c31"
   },
   "outputs": [
    {
     "name": "stdout",
     "output_type": "stream",
     "text": [
      "wsj_0003.mrg 15 19 gold say.01 vp--a 1:2*20:0-ARG1 19:0-rel 21:1-ARG0\n",
      "wsj_0004.mrg 8 16 gold rise.01 vp--a 0:2-ARG1 13:1-ARGM-DIS 16:0-rel 17:1-ARG4-to 20:1-ARG3-from\n"
     ]
    }
   ],
   "source": [
    "pb_instances = propbank.instances()\n",
    "print(pb_instances[42])      # Вывод аннотации глагола say\n",
    "print(pb_instances[103])     # Вывод аннотации глагола rise"
   ]
  },
  {
   "cell_type": "code",
   "execution_count": 8,
   "metadata": {
    "id": "O1oj6DDZIO0h",
    "outputId": "746505fe-bae1-430d-aec7-bce7bf4c6d8a"
   },
   "outputs": [
    {
     "data": {
      "text/plain": [
       "<Element 'roleset' at 0x000001E60D53D760>"
      ]
     },
     "execution_count": 8,
     "metadata": {},
     "output_type": "execute_result"
    }
   ],
   "source": [
    "propbank.roleset('join.01')"
   ]
  },
  {
   "cell_type": "code",
   "execution_count": 9,
   "metadata": {
    "id": "WQAJ2berIO0j",
    "outputId": "4ece9879-a894-4694-b941-cbe9cec90103"
   },
   "outputs": [
    {
     "name": "stdout",
     "output_type": "stream",
     "text": [
      "0 agent, entity doing the tying\n",
      "1 patient, thing(s) being tied\n",
      "2 instrument, string\n"
     ]
    }
   ],
   "source": [
    "# Вывод рамки валентностей глагола join c описанием актантов\n",
    "for role in propbank.roleset('join.01').findall('roles/role'):\n",
    "    print(role.attrib['n'], role.attrib['descr'])"
   ]
  },
  {
   "cell_type": "code",
   "execution_count": 10,
   "metadata": {
    "id": "NQEH6c5MIO0l",
    "outputId": "77088fba-f44e-42cb-9489-8fceb9ea5025"
   },
   "outputs": [
    {
     "name": "stdout",
     "output_type": "stream",
     "text": [
      "1 Logical subject, patient, thing rising\n",
      "2 EXT, amount risen\n",
      "3 start point\n",
      "4 end point\n",
      "M medium\n"
     ]
    }
   ],
   "source": [
    "# Вывод рамки валентностей глагола rise c описанием актантов\n",
    "rise01 = propbank.roleset('rise.01')\n",
    "\n",
    "for role in rise01.findall(\"roles/role\"):\n",
    "    print(role.attrib['n'], role.attrib['descr'])"
   ]
  },
  {
   "cell_type": "code",
   "execution_count": 11,
   "metadata": {
    "id": "J-HT4DJZIO0n",
    "outputId": "b5bb3171-85bc-42c6-aa9d-973b650522c9"
   },
   "outputs": [
    {
     "name": "stdout",
     "output_type": "stream",
     "text": [
      "wsj_0001.mrg 0 8 gold join.01 vf--a 0:2-ARG0 7:0-ARGM-MOD 8:0-rel 9:1-ARG1 11:1-ARGM-PRD 15:1-ARGM-TMP\n",
      "wsj_0001.mrg 0 8\n"
     ]
    }
   ],
   "source": [
    "inst0 = pb_instances[0]\n",
    "\n",
    "print(inst0)\n",
    "print(inst0.fileid, inst0.sentnum, inst0.wordnum)"
   ]
  },
  {
   "cell_type": "code",
   "execution_count": 12,
   "metadata": {
    "id": "oI6MSZc9IO0p",
    "outputId": "adeb6531-e132-4b33-a29e-ddb4a4bf21a3"
   },
   "outputs": [
    {
     "data": {
      "text/plain": [
       "PropbankTreePointer(8, 0)"
      ]
     },
     "execution_count": 12,
     "metadata": {},
     "output_type": "execute_result"
    }
   ],
   "source": [
    "inst0.predicate"
   ]
  },
  {
   "cell_type": "code",
   "execution_count": 13,
   "metadata": {
    "id": "snVP7pj3IO0r",
    "outputId": "503c8898-691e-4987-bf13-65d4aac8f049"
   },
   "outputs": [
    {
     "name": "stdout",
     "output_type": "stream",
     "text": [
      "(VB join)\n"
     ]
    }
   ],
   "source": [
    "print(inst0.predicate.select(inst0.tree))"
   ]
  },
  {
   "cell_type": "code",
   "execution_count": 14,
   "metadata": {
    "id": "290BG6evIO0t",
    "outputId": "1d10f62c-6f69-4874-86d4-38e9f05f3e6d"
   },
   "outputs": [
    {
     "name": "stdout",
     "output_type": "stream",
     "text": [
      "ARG0\n",
      "(NP-SBJ\n",
      "  (NP (NNP Pierre) (NNP Vinken))\n",
      "  (, ,)\n",
      "  (ADJP (NP (CD 61) (NNS years)) (JJ old))\n",
      "  (, ,))\n",
      "\n",
      "ARGM-MOD\n",
      "(MD will)\n",
      "\n",
      "ARG1\n",
      "(NP (DT the) (NN board))\n",
      "\n",
      "ARGM-PRD\n",
      "(PP-CLR (IN as) (NP (DT a) (JJ nonexecutive) (NN director)))\n",
      "\n",
      "ARGM-TMP\n",
      "(NP-TMP (NNP Nov.) (CD 29))\n",
      "\n"
     ]
    }
   ],
   "source": [
    "# вывод куста со связями для актанта\n",
    "for (argloc, argid) in inst0.arguments:\n",
    "    print(argid)\n",
    "    print(argloc.select(inst0.tree))\n",
    "    print()\n",
    "\n"
   ]
  },
  {
   "cell_type": "code",
   "execution_count": null,
   "metadata": {
    "id": "hzE7UdmCIO0v"
   },
   "outputs": [],
   "source": []
  }
 ],
 "metadata": {
  "colab": {
   "provenance": []
  },
  "kernelspec": {
   "display_name": "Python 3 (ipykernel)",
   "language": "python",
   "name": "python3"
  },
  "language_info": {
   "codemirror_mode": {
    "name": "ipython",
    "version": 3
   },
   "file_extension": ".py",
   "mimetype": "text/x-python",
   "name": "python",
   "nbconvert_exporter": "python",
   "pygments_lexer": "ipython3",
   "version": "3.11.5"
  }
 },
 "nbformat": 4,
 "nbformat_minor": 1
}
