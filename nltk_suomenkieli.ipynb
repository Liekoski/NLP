{
 "cells": [
  {
   "cell_type": "code",
   "execution_count": 1,
   "id": "81432ffc",
   "metadata": {},
   "outputs": [],
   "source": [
    "import nltk"
   ]
  },
  {
   "cell_type": "code",
   "execution_count": 2,
   "id": "c7f9f079",
   "metadata": {},
   "outputs": [],
   "source": [
    "from nltk.stem.snowball import SnowballStemmer\n",
    "stemmer = SnowballStemmer('finnish')"
   ]
  },
  {
   "cell_type": "markdown",
   "id": "86abe204",
   "metadata": {},
   "source": [
    "Стемминг"
   ]
  },
  {
   "cell_type": "code",
   "execution_count": 3,
   "id": "350d674d",
   "metadata": {},
   "outputs": [
    {
     "name": "stdout",
     "output_type": "stream",
     "text": [
      "ajattel\n"
     ]
    }
   ],
   "source": [
    "print(stemmer.stem('ajattelen'))"
   ]
  },
  {
   "cell_type": "code",
   "execution_count": 4,
   "id": "f86a3b61",
   "metadata": {},
   "outputs": [
    {
     "name": "stdout",
     "output_type": "stream",
     "text": [
      "kiso\n"
     ]
    }
   ],
   "source": [
    "print(stemmer.stem('kissoja')) #ошибка (куда пропала s?)"
   ]
  },
  {
   "cell_type": "code",
   "execution_count": 9,
   "id": "87e831ef",
   "metadata": {},
   "outputs": [
    {
     "name": "stdout",
     "output_type": "stream",
     "text": [
      "koto\n"
     ]
    }
   ],
   "source": [
    "print(stemmer.stem('kotona')) #ошибка (слово koti, сохранившийся \"архаизм\")"
   ]
  },
  {
   "cell_type": "code",
   "execution_count": 17,
   "id": "cf70bb4c",
   "metadata": {},
   "outputs": [
    {
     "name": "stdout",
     "output_type": "stream",
     "text": [
      "ulko\n"
     ]
    }
   ],
   "source": [
    "print(stemmer.stem('ulkona'))"
   ]
  },
  {
   "cell_type": "code",
   "execution_count": 18,
   "id": "8085c20f",
   "metadata": {},
   "outputs": [
    {
     "name": "stdout",
     "output_type": "stream",
     "text": [
      "ulos\n"
     ]
    }
   ],
   "source": [
    "print(stemmer.stem('ulos')) #ошибка (предыдущее слово - одно и то же, только в другом падеже)"
   ]
  },
  {
   "cell_type": "code",
   "execution_count": 10,
   "id": "724a77b0",
   "metadata": {},
   "outputs": [
    {
     "name": "stdout",
     "output_type": "stream",
     "text": [
      "luke\n"
     ]
    }
   ],
   "source": [
    "print(stemmer.stem('lukea'))"
   ]
  },
  {
   "cell_type": "code",
   "execution_count": 11,
   "id": "482d5b6c",
   "metadata": {},
   "outputs": [
    {
     "name": "stdout",
     "output_type": "stream",
     "text": [
      "postits\n"
     ]
    }
   ],
   "source": [
    "print(stemmer.stem('postitse')) #ошибка (не выделил редкий суффикс -tse)"
   ]
  },
  {
   "cell_type": "code",
   "execution_count": 12,
   "id": "b9acb331",
   "metadata": {},
   "outputs": [
    {
     "name": "stdout",
     "output_type": "stream",
     "text": [
      "huone\n"
     ]
    }
   ],
   "source": [
    "print(stemmer.stem('huoneeseen'))"
   ]
  },
  {
   "cell_type": "code",
   "execution_count": 16,
   "id": "5025c32b",
   "metadata": {},
   "outputs": [
    {
     "name": "stdout",
     "output_type": "stream",
     "text": [
      "huone\n"
     ]
    }
   ],
   "source": [
    "print(stemmer.stem('huoneissa'))"
   ]
  },
  {
   "cell_type": "code",
   "execution_count": 13,
   "id": "91bb4efa",
   "metadata": {},
   "outputs": [
    {
     "name": "stdout",
     "output_type": "stream",
     "text": [
      "parvek\n"
     ]
    }
   ],
   "source": [
    "print(stemmer.stem('parvekkeeseen'))"
   ]
  },
  {
   "cell_type": "code",
   "execution_count": 14,
   "id": "fc6c19af",
   "metadata": {},
   "outputs": [
    {
     "name": "stdout",
     "output_type": "stream",
     "text": [
      "parvek\n"
     ]
    }
   ],
   "source": [
    "print(stemmer.stem('parvekkeella'))"
   ]
  },
  {
   "cell_type": "code",
   "execution_count": 15,
   "id": "3e6b61a2",
   "metadata": {},
   "outputs": [
    {
     "name": "stdout",
     "output_type": "stream",
     "text": [
      "parvek\n"
     ]
    }
   ],
   "source": [
    "print(stemmer.stem('parveke'))"
   ]
  },
  {
   "cell_type": "code",
   "execution_count": 19,
   "id": "888af6c5",
   "metadata": {},
   "outputs": [
    {
     "name": "stdout",
     "output_type": "stream",
     "text": [
      "omeno\n"
     ]
    }
   ],
   "source": [
    "print(stemmer.stem('omenoita')) #ошибка (неправильно выделено)"
   ]
  },
  {
   "cell_type": "code",
   "execution_count": 20,
   "id": "f9da234d",
   "metadata": {},
   "outputs": [
    {
     "name": "stdout",
     "output_type": "stream",
     "text": [
      "ome\n"
     ]
    }
   ],
   "source": [
    "print(stemmer.stem('omena')) #ошибка (выделено na как окончание падежа, хотя это часть слова)"
   ]
  },
  {
   "cell_type": "markdown",
   "id": "2f9f97b3",
   "metadata": {},
   "source": [
    "Лемматизация"
   ]
  },
  {
   "cell_type": "code",
   "execution_count": 24,
   "id": "53994713",
   "metadata": {},
   "outputs": [],
   "source": [
    "#нужно установить libvoikko https://github.com/voikko/corevoikko "
   ]
  },
  {
   "cell_type": "code",
   "execution_count": null,
   "id": "ac6dd782",
   "metadata": {},
   "outputs": [],
   "source": []
  }
 ],
 "metadata": {
  "kernelspec": {
   "display_name": "Python 3 (ipykernel)",
   "language": "python",
   "name": "python3"
  },
  "language_info": {
   "codemirror_mode": {
    "name": "ipython",
    "version": 3
   },
   "file_extension": ".py",
   "mimetype": "text/x-python",
   "name": "python",
   "nbconvert_exporter": "python",
   "pygments_lexer": "ipython3",
   "version": "3.11.5"
  }
 },
 "nbformat": 4,
 "nbformat_minor": 5
}
